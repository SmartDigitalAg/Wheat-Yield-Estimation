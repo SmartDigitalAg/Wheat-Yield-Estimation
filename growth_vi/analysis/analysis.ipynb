{
 "cells": [
  {
   "cell_type": "code",
   "id": "initial_id",
   "metadata": {
    "collapsed": true,
    "ExecuteTime": {
     "end_time": "2024-12-02T17:30:00.312139Z",
     "start_time": "2024-12-02T17:30:00.074469Z"
    }
   },
   "source": [
    "import pandas as pd\n",
    "import os\n",
    "import seaborn as sns\n",
    "import matplotlib.pyplot as plt\n",
    "from sklearn.preprocessing import PolynomialFeatures\n",
    "from sklearn.linear_model import LinearRegression\n",
    "import numpy as np\n",
    "import warnings\n",
    "warnings.filterwarnings('ignore')\n",
    "\n",
    "plt.rcParams['font.family'] ='Malgun Gothic'\n",
    "plt.rcParams['axes.unicode_minus'] =False"
   ],
   "outputs": [],
   "execution_count": 2
  },
  {
   "metadata": {
    "ExecuteTime": {
     "end_time": "2024-12-02T17:30:00.767408Z",
     "start_time": "2024-12-02T17:30:00.314832Z"
    }
   },
   "cell_type": "code",
   "source": [
    "df = pd.read_csv(\"../output/2324_growth.csv\")\n",
    "df['plot'] = ((df['ID'] - 1) // 10) + 1\n",
    "df['year'] = '20' + (df['date'].astype(str).str[0:2])\n",
    "df['year'] = df['year'].astype(int)\n",
    "df['초장(cm)'] = df.apply(lambda row: row['간장(cm)'] + row['수장(cm)'] if pd.isna(row['초장(cm)'])else row['초장(cm)'], axis=1)\n",
    "df['생육단계_숫자'] = pd.Categorical(df['생육단계'], categories=['분얼전기', '분얼후기', '개화기', '개화후2주', '개화후4주', '수확기'], ordered=True).codes"
   ],
   "id": "2f8d16d1fc0c91bf",
   "outputs": [
    {
     "ename": "FileNotFoundError",
     "evalue": "[Errno 2] No such file or directory: '../output/2324_growth.csv'",
     "output_type": "error",
     "traceback": [
      "\u001B[0;31m---------------------------------------------------------------------------\u001B[0m",
      "\u001B[0;31mFileNotFoundError\u001B[0m                         Traceback (most recent call last)",
      "Cell \u001B[0;32mIn[3], line 1\u001B[0m\n\u001B[0;32m----> 1\u001B[0m df \u001B[38;5;241m=\u001B[39m \u001B[43mpd\u001B[49m\u001B[38;5;241;43m.\u001B[39;49m\u001B[43mread_csv\u001B[49m\u001B[43m(\u001B[49m\u001B[38;5;124;43m\"\u001B[39;49m\u001B[38;5;124;43m../output/2324_growth.csv\u001B[39;49m\u001B[38;5;124;43m\"\u001B[39;49m\u001B[43m)\u001B[49m\n\u001B[1;32m      2\u001B[0m df[\u001B[38;5;124m'\u001B[39m\u001B[38;5;124mplot\u001B[39m\u001B[38;5;124m'\u001B[39m] \u001B[38;5;241m=\u001B[39m ((df[\u001B[38;5;124m'\u001B[39m\u001B[38;5;124mID\u001B[39m\u001B[38;5;124m'\u001B[39m] \u001B[38;5;241m-\u001B[39m \u001B[38;5;241m1\u001B[39m) \u001B[38;5;241m/\u001B[39m\u001B[38;5;241m/\u001B[39m \u001B[38;5;241m10\u001B[39m) \u001B[38;5;241m+\u001B[39m \u001B[38;5;241m1\u001B[39m\n\u001B[1;32m      3\u001B[0m df[\u001B[38;5;124m'\u001B[39m\u001B[38;5;124myear\u001B[39m\u001B[38;5;124m'\u001B[39m] \u001B[38;5;241m=\u001B[39m \u001B[38;5;124m'\u001B[39m\u001B[38;5;124m20\u001B[39m\u001B[38;5;124m'\u001B[39m \u001B[38;5;241m+\u001B[39m (df[\u001B[38;5;124m'\u001B[39m\u001B[38;5;124mdate\u001B[39m\u001B[38;5;124m'\u001B[39m]\u001B[38;5;241m.\u001B[39mastype(\u001B[38;5;28mstr\u001B[39m)\u001B[38;5;241m.\u001B[39mstr[\u001B[38;5;241m0\u001B[39m:\u001B[38;5;241m2\u001B[39m])\n",
      "File \u001B[0;32m~/anaconda3/envs/prj/lib/python3.10/site-packages/pandas/io/parsers/readers.py:948\u001B[0m, in \u001B[0;36mread_csv\u001B[0;34m(filepath_or_buffer, sep, delimiter, header, names, index_col, usecols, dtype, engine, converters, true_values, false_values, skipinitialspace, skiprows, skipfooter, nrows, na_values, keep_default_na, na_filter, verbose, skip_blank_lines, parse_dates, infer_datetime_format, keep_date_col, date_parser, date_format, dayfirst, cache_dates, iterator, chunksize, compression, thousands, decimal, lineterminator, quotechar, quoting, doublequote, escapechar, comment, encoding, encoding_errors, dialect, on_bad_lines, delim_whitespace, low_memory, memory_map, float_precision, storage_options, dtype_backend)\u001B[0m\n\u001B[1;32m    935\u001B[0m kwds_defaults \u001B[38;5;241m=\u001B[39m _refine_defaults_read(\n\u001B[1;32m    936\u001B[0m     dialect,\n\u001B[1;32m    937\u001B[0m     delimiter,\n\u001B[0;32m   (...)\u001B[0m\n\u001B[1;32m    944\u001B[0m     dtype_backend\u001B[38;5;241m=\u001B[39mdtype_backend,\n\u001B[1;32m    945\u001B[0m )\n\u001B[1;32m    946\u001B[0m kwds\u001B[38;5;241m.\u001B[39mupdate(kwds_defaults)\n\u001B[0;32m--> 948\u001B[0m \u001B[38;5;28;01mreturn\u001B[39;00m \u001B[43m_read\u001B[49m\u001B[43m(\u001B[49m\u001B[43mfilepath_or_buffer\u001B[49m\u001B[43m,\u001B[49m\u001B[43m \u001B[49m\u001B[43mkwds\u001B[49m\u001B[43m)\u001B[49m\n",
      "File \u001B[0;32m~/anaconda3/envs/prj/lib/python3.10/site-packages/pandas/io/parsers/readers.py:611\u001B[0m, in \u001B[0;36m_read\u001B[0;34m(filepath_or_buffer, kwds)\u001B[0m\n\u001B[1;32m    608\u001B[0m _validate_names(kwds\u001B[38;5;241m.\u001B[39mget(\u001B[38;5;124m\"\u001B[39m\u001B[38;5;124mnames\u001B[39m\u001B[38;5;124m\"\u001B[39m, \u001B[38;5;28;01mNone\u001B[39;00m))\n\u001B[1;32m    610\u001B[0m \u001B[38;5;66;03m# Create the parser.\u001B[39;00m\n\u001B[0;32m--> 611\u001B[0m parser \u001B[38;5;241m=\u001B[39m \u001B[43mTextFileReader\u001B[49m\u001B[43m(\u001B[49m\u001B[43mfilepath_or_buffer\u001B[49m\u001B[43m,\u001B[49m\u001B[43m \u001B[49m\u001B[38;5;241;43m*\u001B[39;49m\u001B[38;5;241;43m*\u001B[39;49m\u001B[43mkwds\u001B[49m\u001B[43m)\u001B[49m\n\u001B[1;32m    613\u001B[0m \u001B[38;5;28;01mif\u001B[39;00m chunksize \u001B[38;5;129;01mor\u001B[39;00m iterator:\n\u001B[1;32m    614\u001B[0m     \u001B[38;5;28;01mreturn\u001B[39;00m parser\n",
      "File \u001B[0;32m~/anaconda3/envs/prj/lib/python3.10/site-packages/pandas/io/parsers/readers.py:1448\u001B[0m, in \u001B[0;36mTextFileReader.__init__\u001B[0;34m(self, f, engine, **kwds)\u001B[0m\n\u001B[1;32m   1445\u001B[0m     \u001B[38;5;28mself\u001B[39m\u001B[38;5;241m.\u001B[39moptions[\u001B[38;5;124m\"\u001B[39m\u001B[38;5;124mhas_index_names\u001B[39m\u001B[38;5;124m\"\u001B[39m] \u001B[38;5;241m=\u001B[39m kwds[\u001B[38;5;124m\"\u001B[39m\u001B[38;5;124mhas_index_names\u001B[39m\u001B[38;5;124m\"\u001B[39m]\n\u001B[1;32m   1447\u001B[0m \u001B[38;5;28mself\u001B[39m\u001B[38;5;241m.\u001B[39mhandles: IOHandles \u001B[38;5;241m|\u001B[39m \u001B[38;5;28;01mNone\u001B[39;00m \u001B[38;5;241m=\u001B[39m \u001B[38;5;28;01mNone\u001B[39;00m\n\u001B[0;32m-> 1448\u001B[0m \u001B[38;5;28mself\u001B[39m\u001B[38;5;241m.\u001B[39m_engine \u001B[38;5;241m=\u001B[39m \u001B[38;5;28;43mself\u001B[39;49m\u001B[38;5;241;43m.\u001B[39;49m\u001B[43m_make_engine\u001B[49m\u001B[43m(\u001B[49m\u001B[43mf\u001B[49m\u001B[43m,\u001B[49m\u001B[43m \u001B[49m\u001B[38;5;28;43mself\u001B[39;49m\u001B[38;5;241;43m.\u001B[39;49m\u001B[43mengine\u001B[49m\u001B[43m)\u001B[49m\n",
      "File \u001B[0;32m~/anaconda3/envs/prj/lib/python3.10/site-packages/pandas/io/parsers/readers.py:1705\u001B[0m, in \u001B[0;36mTextFileReader._make_engine\u001B[0;34m(self, f, engine)\u001B[0m\n\u001B[1;32m   1703\u001B[0m     \u001B[38;5;28;01mif\u001B[39;00m \u001B[38;5;124m\"\u001B[39m\u001B[38;5;124mb\u001B[39m\u001B[38;5;124m\"\u001B[39m \u001B[38;5;129;01mnot\u001B[39;00m \u001B[38;5;129;01min\u001B[39;00m mode:\n\u001B[1;32m   1704\u001B[0m         mode \u001B[38;5;241m+\u001B[39m\u001B[38;5;241m=\u001B[39m \u001B[38;5;124m\"\u001B[39m\u001B[38;5;124mb\u001B[39m\u001B[38;5;124m\"\u001B[39m\n\u001B[0;32m-> 1705\u001B[0m \u001B[38;5;28mself\u001B[39m\u001B[38;5;241m.\u001B[39mhandles \u001B[38;5;241m=\u001B[39m \u001B[43mget_handle\u001B[49m\u001B[43m(\u001B[49m\n\u001B[1;32m   1706\u001B[0m \u001B[43m    \u001B[49m\u001B[43mf\u001B[49m\u001B[43m,\u001B[49m\n\u001B[1;32m   1707\u001B[0m \u001B[43m    \u001B[49m\u001B[43mmode\u001B[49m\u001B[43m,\u001B[49m\n\u001B[1;32m   1708\u001B[0m \u001B[43m    \u001B[49m\u001B[43mencoding\u001B[49m\u001B[38;5;241;43m=\u001B[39;49m\u001B[38;5;28;43mself\u001B[39;49m\u001B[38;5;241;43m.\u001B[39;49m\u001B[43moptions\u001B[49m\u001B[38;5;241;43m.\u001B[39;49m\u001B[43mget\u001B[49m\u001B[43m(\u001B[49m\u001B[38;5;124;43m\"\u001B[39;49m\u001B[38;5;124;43mencoding\u001B[39;49m\u001B[38;5;124;43m\"\u001B[39;49m\u001B[43m,\u001B[49m\u001B[43m \u001B[49m\u001B[38;5;28;43;01mNone\u001B[39;49;00m\u001B[43m)\u001B[49m\u001B[43m,\u001B[49m\n\u001B[1;32m   1709\u001B[0m \u001B[43m    \u001B[49m\u001B[43mcompression\u001B[49m\u001B[38;5;241;43m=\u001B[39;49m\u001B[38;5;28;43mself\u001B[39;49m\u001B[38;5;241;43m.\u001B[39;49m\u001B[43moptions\u001B[49m\u001B[38;5;241;43m.\u001B[39;49m\u001B[43mget\u001B[49m\u001B[43m(\u001B[49m\u001B[38;5;124;43m\"\u001B[39;49m\u001B[38;5;124;43mcompression\u001B[39;49m\u001B[38;5;124;43m\"\u001B[39;49m\u001B[43m,\u001B[49m\u001B[43m \u001B[49m\u001B[38;5;28;43;01mNone\u001B[39;49;00m\u001B[43m)\u001B[49m\u001B[43m,\u001B[49m\n\u001B[1;32m   1710\u001B[0m \u001B[43m    \u001B[49m\u001B[43mmemory_map\u001B[49m\u001B[38;5;241;43m=\u001B[39;49m\u001B[38;5;28;43mself\u001B[39;49m\u001B[38;5;241;43m.\u001B[39;49m\u001B[43moptions\u001B[49m\u001B[38;5;241;43m.\u001B[39;49m\u001B[43mget\u001B[49m\u001B[43m(\u001B[49m\u001B[38;5;124;43m\"\u001B[39;49m\u001B[38;5;124;43mmemory_map\u001B[39;49m\u001B[38;5;124;43m\"\u001B[39;49m\u001B[43m,\u001B[49m\u001B[43m \u001B[49m\u001B[38;5;28;43;01mFalse\u001B[39;49;00m\u001B[43m)\u001B[49m\u001B[43m,\u001B[49m\n\u001B[1;32m   1711\u001B[0m \u001B[43m    \u001B[49m\u001B[43mis_text\u001B[49m\u001B[38;5;241;43m=\u001B[39;49m\u001B[43mis_text\u001B[49m\u001B[43m,\u001B[49m\n\u001B[1;32m   1712\u001B[0m \u001B[43m    \u001B[49m\u001B[43merrors\u001B[49m\u001B[38;5;241;43m=\u001B[39;49m\u001B[38;5;28;43mself\u001B[39;49m\u001B[38;5;241;43m.\u001B[39;49m\u001B[43moptions\u001B[49m\u001B[38;5;241;43m.\u001B[39;49m\u001B[43mget\u001B[49m\u001B[43m(\u001B[49m\u001B[38;5;124;43m\"\u001B[39;49m\u001B[38;5;124;43mencoding_errors\u001B[39;49m\u001B[38;5;124;43m\"\u001B[39;49m\u001B[43m,\u001B[49m\u001B[43m \u001B[49m\u001B[38;5;124;43m\"\u001B[39;49m\u001B[38;5;124;43mstrict\u001B[39;49m\u001B[38;5;124;43m\"\u001B[39;49m\u001B[43m)\u001B[49m\u001B[43m,\u001B[49m\n\u001B[1;32m   1713\u001B[0m \u001B[43m    \u001B[49m\u001B[43mstorage_options\u001B[49m\u001B[38;5;241;43m=\u001B[39;49m\u001B[38;5;28;43mself\u001B[39;49m\u001B[38;5;241;43m.\u001B[39;49m\u001B[43moptions\u001B[49m\u001B[38;5;241;43m.\u001B[39;49m\u001B[43mget\u001B[49m\u001B[43m(\u001B[49m\u001B[38;5;124;43m\"\u001B[39;49m\u001B[38;5;124;43mstorage_options\u001B[39;49m\u001B[38;5;124;43m\"\u001B[39;49m\u001B[43m,\u001B[49m\u001B[43m \u001B[49m\u001B[38;5;28;43;01mNone\u001B[39;49;00m\u001B[43m)\u001B[49m\u001B[43m,\u001B[49m\n\u001B[1;32m   1714\u001B[0m \u001B[43m\u001B[49m\u001B[43m)\u001B[49m\n\u001B[1;32m   1715\u001B[0m \u001B[38;5;28;01massert\u001B[39;00m \u001B[38;5;28mself\u001B[39m\u001B[38;5;241m.\u001B[39mhandles \u001B[38;5;129;01mis\u001B[39;00m \u001B[38;5;129;01mnot\u001B[39;00m \u001B[38;5;28;01mNone\u001B[39;00m\n\u001B[1;32m   1716\u001B[0m f \u001B[38;5;241m=\u001B[39m \u001B[38;5;28mself\u001B[39m\u001B[38;5;241m.\u001B[39mhandles\u001B[38;5;241m.\u001B[39mhandle\n",
      "File \u001B[0;32m~/anaconda3/envs/prj/lib/python3.10/site-packages/pandas/io/common.py:863\u001B[0m, in \u001B[0;36mget_handle\u001B[0;34m(path_or_buf, mode, encoding, compression, memory_map, is_text, errors, storage_options)\u001B[0m\n\u001B[1;32m    858\u001B[0m \u001B[38;5;28;01melif\u001B[39;00m \u001B[38;5;28misinstance\u001B[39m(handle, \u001B[38;5;28mstr\u001B[39m):\n\u001B[1;32m    859\u001B[0m     \u001B[38;5;66;03m# Check whether the filename is to be opened in binary mode.\u001B[39;00m\n\u001B[1;32m    860\u001B[0m     \u001B[38;5;66;03m# Binary mode does not support 'encoding' and 'newline'.\u001B[39;00m\n\u001B[1;32m    861\u001B[0m     \u001B[38;5;28;01mif\u001B[39;00m ioargs\u001B[38;5;241m.\u001B[39mencoding \u001B[38;5;129;01mand\u001B[39;00m \u001B[38;5;124m\"\u001B[39m\u001B[38;5;124mb\u001B[39m\u001B[38;5;124m\"\u001B[39m \u001B[38;5;129;01mnot\u001B[39;00m \u001B[38;5;129;01min\u001B[39;00m ioargs\u001B[38;5;241m.\u001B[39mmode:\n\u001B[1;32m    862\u001B[0m         \u001B[38;5;66;03m# Encoding\u001B[39;00m\n\u001B[0;32m--> 863\u001B[0m         handle \u001B[38;5;241m=\u001B[39m \u001B[38;5;28;43mopen\u001B[39;49m\u001B[43m(\u001B[49m\n\u001B[1;32m    864\u001B[0m \u001B[43m            \u001B[49m\u001B[43mhandle\u001B[49m\u001B[43m,\u001B[49m\n\u001B[1;32m    865\u001B[0m \u001B[43m            \u001B[49m\u001B[43mioargs\u001B[49m\u001B[38;5;241;43m.\u001B[39;49m\u001B[43mmode\u001B[49m\u001B[43m,\u001B[49m\n\u001B[1;32m    866\u001B[0m \u001B[43m            \u001B[49m\u001B[43mencoding\u001B[49m\u001B[38;5;241;43m=\u001B[39;49m\u001B[43mioargs\u001B[49m\u001B[38;5;241;43m.\u001B[39;49m\u001B[43mencoding\u001B[49m\u001B[43m,\u001B[49m\n\u001B[1;32m    867\u001B[0m \u001B[43m            \u001B[49m\u001B[43merrors\u001B[49m\u001B[38;5;241;43m=\u001B[39;49m\u001B[43merrors\u001B[49m\u001B[43m,\u001B[49m\n\u001B[1;32m    868\u001B[0m \u001B[43m            \u001B[49m\u001B[43mnewline\u001B[49m\u001B[38;5;241;43m=\u001B[39;49m\u001B[38;5;124;43m\"\u001B[39;49m\u001B[38;5;124;43m\"\u001B[39;49m\u001B[43m,\u001B[49m\n\u001B[1;32m    869\u001B[0m \u001B[43m        \u001B[49m\u001B[43m)\u001B[49m\n\u001B[1;32m    870\u001B[0m     \u001B[38;5;28;01melse\u001B[39;00m:\n\u001B[1;32m    871\u001B[0m         \u001B[38;5;66;03m# Binary mode\u001B[39;00m\n\u001B[1;32m    872\u001B[0m         handle \u001B[38;5;241m=\u001B[39m \u001B[38;5;28mopen\u001B[39m(handle, ioargs\u001B[38;5;241m.\u001B[39mmode)\n",
      "\u001B[0;31mFileNotFoundError\u001B[0m: [Errno 2] No such file or directory: '../output/2324_growth.csv'"
     ]
    }
   ],
   "execution_count": 3
  },
  {
   "metadata": {
    "ExecuteTime": {
     "start_time": "2024-12-02T17:30:00.723874Z"
    }
   },
   "cell_type": "code",
   "source": [
    "df['year-plot'] = df['year'].astype(str) + '-' + df['plot'].astype(str)"
   ],
   "id": "f4c58ec583859452",
   "outputs": [],
   "execution_count": null
  },
  {
   "metadata": {
    "ExecuteTime": {
     "start_time": "2024-12-02T17:30:00.725749Z"
    }
   },
   "cell_type": "code",
   "source": [
    "df['파종'] = df['plot'].apply(lambda x: '광산' if x <= 4 else '세조')\n",
    "df['시비'] = df['plot'].apply(lambda x: '추비' if x in [2, 3, 6,7 ] else '기비')\n",
    "df['파종_시비'] = df['파종'] + '_' + df['시비']\n",
    "df"
   ],
   "id": "21bd5c7c7599066c",
   "outputs": [],
   "execution_count": null
  },
  {
   "metadata": {
    "ExecuteTime": {
     "start_time": "2024-12-02T17:30:00.727606Z"
    }
   },
   "cell_type": "code",
   "source": [
    "def polynomial_regression(df, x, y, degree):\n",
    "    df = df[[x, y]].dropna()\n",
    "    x_features = []\n",
    "    y_features = []\n",
    "    \n",
    "    x_features.extend(df[x])\n",
    "    y_features.extend(df[y])\n",
    "    \n",
    "    x_real = np.reshape(x_features, (-1, 1))\n",
    "    y_real = np.reshape(y_features, (-1, 1))\n",
    "    \n",
    "    polynomial_features = PolynomialFeatures(degree=degree, include_bias=False)\n",
    "    x_poly = polynomial_features.fit_transform(x_real)\n",
    "    \n",
    "    model = LinearRegression()\n",
    "    model.fit(x_poly, y_real)\n",
    "    \n",
    "    return model.intercept_[0], model.coef_[0][0], model.coef_[0][1], model.coef_[0][2]"
   ],
   "id": "3c7724f8596bede5",
   "outputs": [],
   "execution_count": null
  },
  {
   "metadata": {
    "ExecuteTime": {
     "start_time": "2024-12-02T17:30:00.729192Z"
    }
   },
   "cell_type": "code",
   "source": [
    "y_feature_name = 'NDVI'\n",
    "fig, axes = plt.subplots(1, 2, figsize=(12, 6), sharey=True)\n",
    "\n",
    "for i, year in enumerate([2023, 2024]):\n",
    "    ax = axes[i]\n",
    "    df_target = df[df['year'] == year]\n",
    "    poly_values = polynomial_regression(df_target, '생육단계_숫자', y_feature_name, 3)\n",
    "    poly_series = df_target['생육단계_숫자'].apply(lambda x: x * poly_values[1] + x ** 2 * poly_values[2] + x ** 3 * poly_values[3] + poly_values[0])\n",
    "    sns.scatterplot(x='생육단계', y=y_feature_name, data=df_target, color='black', ax=ax);\n",
    "    sns.lineplot(x='생육단계', y=poly_series, data=df_target, color='red', ax=ax);\n",
    "    ax.set_title(f'{year}년')\n",
    "\n",
    "fig.suptitle(f'생육단계별 {y_feature_name} 추이');"
   ],
   "id": "de111078c4b3af4d",
   "outputs": [],
   "execution_count": null
  },
  {
   "metadata": {
    "ExecuteTime": {
     "start_time": "2024-12-02T17:30:00.730773Z"
    }
   },
   "cell_type": "code",
   "source": [
    "y_variables = ['초장(cm)', 'LAI', 'SPAD', 'NDVI', 'GNDVI', 'RVI', 'CVI', 'NDRE'] \n",
    "\n",
    "df_mean = df.groupby(['year-plot', '생육단계'])[y_variables].mean().reset_index()\n",
    "df_mean['year'] = df_mean['year-plot'].str.split('-').str[0].astype(int)\n",
    "df_mean['plot'] = df_mean['year-plot'].str.split('-').str[1]\n",
    "from pandas.api.types import CategoricalDtype\n",
    "df_mean['생육단계'] = df_mean['생육단계'].astype(CategoricalDtype(categories=['분얼전기', '분얼후기', '개화기', '개화후2주', '개화후4주', '수확기'], ordered=True))"
   ],
   "id": "d6d666706812c260",
   "outputs": [],
   "execution_count": null
  },
  {
   "metadata": {
    "ExecuteTime": {
     "start_time": "2024-12-02T17:30:00.732454Z"
    }
   },
   "cell_type": "code",
   "source": [
    "df_year = df.groupby(['year', '생육단계'])[y_variables].mean().reset_index()\n",
    "from pandas.api.types import CategoricalDtype\n",
    "df_year['생육단계'] = df_year['생육단계'].astype(CategoricalDtype(categories=['분얼전기', '분얼후기', '개화기', '개화후2주', '개화후4주', '수확기'], ordered=True))\n",
    "df_year"
   ],
   "id": "24f30465344893ff",
   "outputs": [],
   "execution_count": null
  },
  {
   "metadata": {
    "ExecuteTime": {
     "start_time": "2024-12-02T17:30:00.734239Z"
    }
   },
   "cell_type": "code",
   "source": [
    "fig, axes = plt.subplots(3, 3, figsize=(15, 12))  # 3x3 서브플롯 (마지막은 빈 칸)\n",
    "palette = {2023: 'blue', 2024: 'orange'}\n",
    "\n",
    "# 첫 번째 행: 첫 3개의 y값\n",
    "for i, y in enumerate(y_variables[:3]):\n",
    "    sns.scatterplot(x='생육단계', y=y, style='plot', hue='year', data=df_mean, ax=axes[0, i], palette=palette, legend='brief')\n",
    "    sns.lineplot(x='생육단계', y=y, hue='year', data=df_year, ax=axes[0, i], palette=palette, legend=False)\n",
    "    axes[0, i].set_title(y)\n",
    "\n",
    "# 두 번째 행: 중간 3개의 y값\n",
    "for i, y in enumerate(y_variables[3:6]):\n",
    "    sns.scatterplot(x='생육단계', y=y, style='plot', hue='year', data=df_mean, ax=axes[1, i], palette=palette, legend=False)\n",
    "    sns.lineplot(x='생육단계', y=y, hue='year', data=df_year, ax=axes[1, i], palette=palette, legend=False)\n",
    "    axes[1, i].set_title(y)\n",
    "\n",
    "# 세 번째 행: 마지막 2개의 y값\n",
    "for i, y in enumerate(y_variables[6:]):\n",
    "    sns.scatterplot(x='생육단계', y=y, style='plot', hue='year', data=df_mean, ax=axes[2, i], palette=palette, legend=False)\n",
    "    sns.lineplot(x='생육단계', y=y, hue='year', data=df_year, ax=axes[2, i], palette=palette, legend=False)\n",
    "    axes[2, i].set_title(y)\n",
    "\n",
    "# 빈 서브플롯에 범례 추가\n",
    "axes[2, 2].axis('off')  # 빈 서브플롯 숨기기\n",
    "handles, labels = axes[0, 0].get_legend_handles_labels()  # 범례 핸들과 레이블 가져오기\n",
    "fig.legend(handles, labels, loc='center', bbox_to_anchor=(0.8,0.2), ncol=1)\n",
    "\n",
    "plt.tight_layout()\n",
    "plt.show()\n"
   ],
   "id": "a0ccd145c0a9b713",
   "outputs": [],
   "execution_count": null
  },
  {
   "metadata": {
    "ExecuteTime": {
     "start_time": "2024-12-02T17:30:00.735852Z"
    }
   },
   "cell_type": "code",
   "source": [
    "fig, axes = plt.subplots(3, 3, figsize=(15, 9))  # 3x3 서브플롯 (마지막은 빈 칸)\n",
    "\n",
    "# 마커 스타일 설정\n",
    "marker_styles = {2023: 'o', 2024: 'o'}  # 마커 모양\n",
    "line_styles = {2023: '--', 2024: '-'}  # 선 스타일\n",
    "\n",
    "# 첫 번째 행: 첫 3개의 y값\n",
    "for i, y in enumerate(y_variables[:3]):\n",
    "    for year in [2023, 2024]:\n",
    "        data_subset = df_mean[df_mean['year'] == year]\n",
    "        sns.scatterplot(\n",
    "            x='생육단계',\n",
    "            y=y,\n",
    "            data=data_subset,\n",
    "            ax=axes[0, i],\n",
    "            style='plot',\n",
    "            markers=True,\n",
    "            color='black',\n",
    "            edgecolor='black',\n",
    "            legend=False,\n",
    "            facecolors='none' if year == 2023 else 'black',  # 2023 비우기, 2024 채우기\n",
    "        )\n",
    "        sns.lineplot(\n",
    "            x='생육단계',\n",
    "            y=y,\n",
    "            data=df_year[df_year['year'] == year],\n",
    "            ax=axes[0, i],\n",
    "            color='green',\n",
    "            linestyle=line_styles[year],\n",
    "            linewidth=2\n",
    "        )\n",
    "    axes[0, i].set_title(y)\n",
    "\n",
    "# 두 번째 행: 중간 3개의 y값\n",
    "for i, y in enumerate(y_variables[3:6]):\n",
    "    for year in [2023, 2024]:\n",
    "        data_subset = df_mean[df_mean['year'] == year]\n",
    "        sns.scatterplot(\n",
    "            x='생육단계',\n",
    "            y=y,\n",
    "            data=data_subset,\n",
    "            ax=axes[1, i],\n",
    "            style='plot',\n",
    "            markers=True,\n",
    "            color='black',\n",
    "            edgecolor='black',\n",
    "            legend=False,\n",
    "            facecolors='none' if year == 2023 else 'black',\n",
    "        )\n",
    "        sns.lineplot(\n",
    "            x='생육단계',\n",
    "            y=y,\n",
    "            data=df_year[df_year['year'] == year],\n",
    "            ax=axes[1, i],\n",
    "            color='orange',\n",
    "            linestyle=line_styles[year],\n",
    "            linewidth=2\n",
    "        )\n",
    "    axes[1, i].set_title(y)\n",
    "\n",
    "# 세 번째 행: 마지막 2개의 y값\n",
    "for i, y in enumerate(y_variables[6:]):\n",
    "    for year in [2023, 2024]:\n",
    "        data_subset = df_mean[df_mean['year'] == year]\n",
    "        sns.scatterplot(\n",
    "            x='생육단계',\n",
    "            y=y,\n",
    "            data=data_subset,\n",
    "            ax=axes[2, i],\n",
    "            style='plot',\n",
    "            markers=True,\n",
    "            color='black',\n",
    "            edgecolor='black',\n",
    "            legend=False,\n",
    "            facecolors='none' if year == 2023 else 'black',\n",
    "        )\n",
    "        sns.lineplot(\n",
    "            x='생육단계',\n",
    "            y=y,\n",
    "            data=df_year[df_year['year'] == year],\n",
    "            ax=axes[2, i],\n",
    "            color='orange',\n",
    "            linestyle=line_styles[year],\n",
    "            linewidth=2\n",
    "        )\n",
    "    axes[2, i].set_title(y)\n",
    "\n",
    "# 빈 서브플롯에 범례 추가\n",
    "axes[2, 2].axis('off')\n",
    "fig.legend(\n",
    "    handles=[\n",
    "        plt.Line2D([0], [0], color='red', linestyle='--', marker='o', markersize=8, markerfacecolor='none', markeredgecolor='black', label='2023'),\n",
    "        plt.Line2D([0], [0], color='red', linestyle='-', marker='o', markersize=8, markerfacecolor='black', markeredgecolor='black', label='2024')\n",
    "    ],\n",
    "    loc='upper center',  # 상단에 위치\n",
    "    bbox_to_anchor=(0.5, 1.05),  # 범례 위치 조정\n",
    "    ncol=2  # 범례를 가로로 배열\n",
    ")\n",
    "\n",
    "plt.tight_layout()\n",
    "plt.savefig('../output/timeseries.png')\n"
   ],
   "id": "2350ec5946d52754",
   "outputs": [],
   "execution_count": null
  },
  {
   "metadata": {
    "ExecuteTime": {
     "start_time": "2024-12-02T17:30:00.737626Z"
    }
   },
   "cell_type": "code",
   "source": [
    "for i, y in enumerate(y_variables[6:]):\n",
    "    sns.scatterplot(x='생육단계', y=y, hue='year-plot', data=df_mean, ax=axes[2, i], legend=False)\n",
    "    axes[2, i].set_title(y)"
   ],
   "id": "8eae6466e501c123",
   "outputs": [],
   "execution_count": null
  },
  {
   "metadata": {
    "ExecuteTime": {
     "start_time": "2024-12-02T17:30:00.738873Z"
    }
   },
   "cell_type": "code",
   "source": [
    "def draw_corr(stage, df, ax):\n",
    "    df_stage = df[df['생육단계'] == stage]\n",
    "    df_stage = df_stage.dropna(axis=1, how='all')\n",
    "    # cols = [col for col in df_stage.columns if col not in ['ID', 'date', 'plot', 'year', '생육단계', '생육단계_숫자']]\n",
    "    # cols.reverse()\n",
    "    cols = ['NDVI', 'CVI', 'GNDVI', 'RVI', 'NDRE', 'SPAD', 'LAI', '초장(cm)']\n",
    "    df_corr = df_stage[cols].corr()\n",
    "    \n",
    "    mask = np.zeros_like(df_corr, dtype=np.bool)\n",
    "    mask[np.triu_indices_from(mask)] = True\n",
    "    \n",
    "    sns.heatmap(df_corr, \n",
    "                cmap = 'RdYlBu_r', \n",
    "                annot = True,\n",
    "                mask=mask, \n",
    "                linewidths=.5,\n",
    "                cbar_kws={\"shrink\": .5},\n",
    "                vmin = -1,vmax = 1,\n",
    "                ax=ax, cbar=False\n",
    "               )    \n",
    "    ax.set_title(stage)\n",
    "    ax.grid(False)\n",
    "\n",
    "fig, axes = plt.subplots(2, 3, figsize=(15, 10))\n",
    "axes = axes.flatten()  # 2D 배열을 1D로 변환\n",
    "\n",
    "# for year in [2023, 2024]:\n",
    "# year = 2024\n",
    "for i, stage in enumerate(['분얼전기', '분얼후기', '개화기', '개화후2주', '개화후4주', '수확기']):\n",
    "    # df_year = df[df['year'] == year]\n",
    "    # draw_corr(stage, df_year, axes[i])\n",
    "    draw_corr(stage, df, axes[i])\n",
    "plt.tight_layout()\n",
    "plt.show()"
   ],
   "id": "1d621ee4f7ac745d",
   "outputs": [],
   "execution_count": null
  },
  {
   "metadata": {
    "ExecuteTime": {
     "start_time": "2024-12-02T17:30:00.739903Z"
    }
   },
   "cell_type": "code",
   "source": [
    "# def draw_corr(stage, df_corr):\n",
    "#     # fig, ax = plt.subplots( figsize=(7,7) )\n",
    "#     \n",
    "#     mask = np.zeros_like(df_corr, dtype=np.bool)\n",
    "#     mask[np.triu_indices_from(mask)] = True\n",
    "#     \n",
    "#     sns.heatmap(df_corr, \n",
    "#                 cmap = 'RdYlBu_r', \n",
    "#                 annot = True,\n",
    "#                 mask=mask, \n",
    "#                 linewidths=.5,\n",
    "#                 cbar_kws={\"shrink\": .5},\n",
    "#                 vmin = -1,vmax = 1\n",
    "#                )\n",
    "#     plt.title(f\"{stage} 변수 상관관계\")\n",
    "#     plt.grid(False)\n",
    "#     plt.show()\n",
    "# for stage in ['분얼전기', '분얼후기', '개화기', '개화후2주', '개화후4주', '수확기']:\n",
    "    # df_stage = df[df['생육단계'] == stage]\n",
    "    # df_stage = df_stage.dropna(axis=1, how='all')\n",
    "    # cols = [col for col in df_stage.columns if col not in ['ID', 'date', 'plot', 'year', '생육단계', '생육단계_숫자']]\n",
    "    # cols.reverse()\n",
    "    # df_corr = df_stage[cols].corr()\n",
    "    \n",
    "    # draw_corr(stage, df_corr)"
   ],
   "id": "5926a2ad1b183c66",
   "outputs": [],
   "execution_count": null
  },
  {
   "metadata": {
    "ExecuteTime": {
     "start_time": "2024-12-02T17:30:00.740733Z"
    }
   },
   "cell_type": "code",
   "source": [
    "# df = df[df['year'] == 2024]\n",
    "df = df.dropna(axis=1, how='all')\n",
    "# cols = [col for col in df_stage.columns if col not in ['ID', 'date', 'plot', 'year', '생육단계', '생육단계_숫자']]\n",
    "# cols.reverse()\n",
    "import seaborn as sns\n",
    "import matplotlib.pyplot as plt\n",
    "import numpy as np\n",
    "\n",
    "cols = ['NDVI', 'CVI', 'GNDVI', 'RVI', 'NDRE', 'SPAD', 'LAI', '초장(cm)']\n",
    "df_corr = df[cols].corr()\n",
    "\n",
    "mask = np.zeros_like(df_corr, dtype=np.bool)\n",
    "mask[np.triu_indices_from(mask)] = True\n",
    "\n",
    "# 히트맵 생성\n",
    "ax = sns.heatmap(df_corr, \n",
    "                 cmap='RdYlBu_r', \n",
    "                 annot=True,\n",
    "                 mask=mask, \n",
    "                 linewidths=.5,\n",
    "                 cbar_kws={\"shrink\": .5},\n",
    "                 vmin=-1, vmax=1,\n",
    "                 cbar=False)\n",
    "\n",
    "# 각 텍스트의 색상 설정\n",
    "for text in ax.texts:\n",
    "    # 텍스트 값에 따라 색상 결정\n",
    "    if text.get_text() in ['NDVI', 'CVI', 'GNDVI', 'RVI', 'NDRE']:\n",
    "        text.set_color('green')  # 초록색\n",
    "    elif text.get_text() in ['SPAD', 'LAI', '초장(cm)']:\n",
    "        text.set_color('orange')  # 주황색\n",
    "\n",
    "plt.grid(False)\n",
    "plt.show()\n"
   ],
   "id": "5afa474e6c195beb",
   "outputs": [],
   "execution_count": null
  },
  {
   "metadata": {
    "ExecuteTime": {
     "start_time": "2024-12-02T17:30:00.741564Z"
    }
   },
   "cell_type": "code",
   "source": [
    "import pandas as pd\n",
    "import os\n",
    "import matplotlib.pyplot as plt\n",
    "import seaborn as sns\n",
    "import numpy as np\n",
    "from scipy.stats import pearsonr, linregress\n",
    "from sklearn.linear_model import LinearRegression\n",
    "from sklearn.metrics import r2_score\n",
    "\n",
    "\n",
    "def calculate_r2(x, y):\n",
    "    slope, intercept, r_value, p_value, std_err = linregress(x, y)\n",
    "    return r_value ** 2\n",
    "\n",
    "\n",
    "def upper_r2(x, y, **kwargs):\n",
    "    r2 = calculate_r2(x, y)\n",
    "    ax = plt.gca()\n",
    "    ax.annotate(f'{r2:.2f}', xy=(0.5, 0.5), xycoords='axes fraction',\n",
    "                ha='center', va='center', fontsize=12, color='black')\n",
    "\n",
    "\n",
    "def lower_scatter_with_reg(x, y, **kwargs):\n",
    "    ax = plt.gca()\n",
    "    sns.regplot(x=x, y=y, ax=ax, scatter_kws={'s': 10}, line_kws={\"color\": \"red\"})\n",
    "\n",
    "\n",
    "def corrfunc(x, y, **kws):\n",
    "    r = np.corrcoef(x, y)[0, 1]\n",
    "    plt.gca().annotate(f\"{r:.2f}\", xy=(0.5, 0.5), xycoords=\"axes fraction\",\n",
    "                       ha=\"center\", va=\"center\", fontsize=12)\n",
    "\n",
    "\n",
    "def lower_scatter_with_reg2(x, y, **kwargs):\n",
    "    ax = plt.gca()\n",
    "    sns.regplot(x=x, y=y, ax=ax, scatter_kws={'s': 10}, line_kws={\"color\": \"red\"})\n",
    "\n",
    "\n",
    "def pair_plot(data):\n",
    "    # combine_info = {\n",
    "    #     \"\": [\"TMX\", \"TMN\", \"SRAD\", \"WSPD\", \"RHUM\", \"PRCP\"],\n",
    "    #     \"Rainfall Days\": [\"r20\", \"r30\", \"r50\", \"r80\", \"PRCP\"],\n",
    "    #     \"Total Rainfall\": [\"r20_sum\", \"r30_sum\", \"r50_sum\", \"r80_sum\", \"PRCP\"]\n",
    "    # }\n",
    "    values = ['NDVI', 'CVI', 'GNDVI', 'RVI', 'NDRE', 'SPAD', 'LAI', '초장(cm)']\n",
    "    # for key, values in combine_info.items():\n",
    "    df = data[values]\n",
    "    g = sns.PairGrid(df, vars=values)\n",
    "    g.map_upper(upper_r2)\n",
    "    g.map_lower(lower_scatter_with_reg)\n",
    "    g.map_diag(sns.histplot, kde=True, color=\"gold\", bins=10)\n",
    "    plt.show()\n",
    "    \n",
    "        # r2_save_path = os.path.join(save_folder, f\"r2_{key}.png\")\n",
    "        # plt.savefig(r2_save_path)\n",
    "        # print(\"Save:\", r2_save_path)\n",
    "    \n",
    "    \n",
    "pair_plot(df)"
   ],
   "id": "b2547037be17887b",
   "outputs": [],
   "execution_count": null
  },
  {
   "metadata": {
    "ExecuteTime": {
     "start_time": "2024-12-02T17:30:00.742393Z"
    }
   },
   "cell_type": "code",
   "source": [
    "\n",
    "\n",
    "y_variables = ['초장(cm)', 'LAI', 'SPAD', 'NDVI', 'GNDVI', 'RVI', 'CVI', 'NDRE'] \n",
    "\n",
    "df_mean = df.groupby(['year', '생육단계', '시비'])[y_variables].mean().reset_index()\n",
    "\n",
    "\n",
    "from pandas.api.types import CategoricalDtype\n",
    "df_mean['생육단계'] = df_mean['생육단계'].astype(CategoricalDtype(categories=['분얼전기', '분얼후기', '개화기', '개화후2주', '개화후4주', '수확기'], ordered=True))\n",
    "df_mean"
   ],
   "id": "14aa7e6b9da77723",
   "outputs": [],
   "execution_count": null
  },
  {
   "metadata": {
    "ExecuteTime": {
     "start_time": "2024-12-02T17:30:00.743535Z"
    }
   },
   "cell_type": "code",
   "source": [
    "growth_stages = ['분얼전기', '분얼후기', '개화기', '개화후2주', '개화후4주', '수확기']\n",
    "df_mean['생육단계'] = pd.Categorical(df_mean['생육단계'], categories=growth_stages, ordered=True)\n",
    "\n",
    "# 데이터 정렬\n",
    "df_mean = df_mean.sort_values('생육단계')"
   ],
   "id": "42dc92f1f43efc5c",
   "outputs": [],
   "execution_count": null
  },
  {
   "metadata": {
    "ExecuteTime": {
     "start_time": "2024-12-02T17:30:00.744576Z"
    }
   },
   "cell_type": "code",
   "source": [
    "colors = {'기비': 'green', '추비': 'orange'}\n",
    "linestyles = {2023: '--', 2024: '-'}\n",
    "\n",
    "# 그래프 그리기\n",
    "fig, ax = plt.subplots(figsize=(8, 6))\n",
    "\n",
    "for (year, 시비), group in df_mean.groupby(['year', '시비']):\n",
    "    \n",
    "    # group['생육단계'] = group['생육단계'].astype(CategoricalDtype(categories=['분얼전기', '분얼후기', '개화기', '개화후2주', '개화후4주', '수확기'], ordered=True))\n",
    "\n",
    "    ax.plot(\n",
    "        group['생육단계'],\n",
    "        group['초장(cm)'],  # 'LAI'로 변경하려면 여기를 수정하세요.\n",
    "        label=f'{year} - {시비}',\n",
    "        color=colors[시비],\n",
    "        linestyle=linestyles[year],\n",
    "        marker='o'  # 각 지점을 강조하려면 추가\n",
    "    )\n",
    "\n",
    "ax.set_xlabel('생육단계')\n",
    "ax.set_ylabel('초장(cm)')\n",
    "ax.set_title('생육단계별 초장')\n",
    "ax.legend()\n",
    "plt.show()"
   ],
   "id": "eff5727688a7382",
   "outputs": [],
   "execution_count": null
  },
  {
   "metadata": {
    "ExecuteTime": {
     "start_time": "2024-12-02T17:30:00.745725Z"
    }
   },
   "cell_type": "code",
   "outputs": [],
   "execution_count": null,
   "source": [],
   "id": "5d1d8557662d1333"
  }
 ],
 "metadata": {
  "kernelspec": {
   "display_name": "Python 3",
   "language": "python",
   "name": "python3"
  },
  "language_info": {
   "codemirror_mode": {
    "name": "ipython",
    "version": 2
   },
   "file_extension": ".py",
   "mimetype": "text/x-python",
   "name": "python",
   "nbconvert_exporter": "python",
   "pygments_lexer": "ipython2",
   "version": "2.7.6"
  }
 },
 "nbformat": 4,
 "nbformat_minor": 5
}
